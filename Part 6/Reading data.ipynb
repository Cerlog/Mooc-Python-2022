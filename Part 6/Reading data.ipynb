{
 "cells": [
  {
   "cell_type": "code",
   "execution_count": 2,
   "metadata": {
    "collapsed": true
   },
   "outputs": [
    {
     "name": "stdout",
     "output_type": "stream",
     "text": [
      "Hello there!\n",
      "This example file contains three lines of text.\n",
      "This is the last line.\n"
     ]
    }
   ],
   "source": [
    "with open(\"exaple.txt\") as new_file:\n",
    "    contents = new_file.read()\n",
    "    print(contents)"
   ]
  },
  {
   "cell_type": "code",
   "execution_count": 4,
   "outputs": [
    {
     "name": "stdout",
     "output_type": "stream",
     "text": [
      "Line 1 Hello there!\n",
      "Line 2 This example file contains three lines of text.\n",
      "Line 3 This is the last line.\n",
      "Total length of lines: 81\n"
     ]
    }
   ],
   "source": [
    "with open(\"exaple.txt\") as new_file:\n",
    "    count = 0\n",
    "    total_length = 0\n",
    "\n",
    "    for line in new_file:\n",
    "        line = line.replace(\"\\n\", \"\")\n",
    "        count += 1\n",
    "        print(\"Line\", count, line)\n",
    "        length = len(line)\n",
    "        total_length += length\n",
    "\n",
    "print(\"Total length of lines:\", total_length)"
   ],
   "metadata": {
    "collapsed": false,
    "pycharm": {
     "name": "#%%\n"
    }
   }
  },
  {
   "cell_type": "code",
   "execution_count": 50,
   "outputs": [],
   "source": [
    "def largest():\n",
    "    with open(\"numbers.txt\") as new_file:\n",
    "        big = 0\n",
    "        for nr in new_file:\n",
    "            i = int(nr)\n",
    "            if i > big:\n",
    "                big = i\n",
    "    return big"
   ],
   "metadata": {
    "collapsed": false,
    "pycharm": {
     "name": "#%%\n"
    }
   }
  },
  {
   "cell_type": "code",
   "execution_count": 51,
   "outputs": [
    {
     "data": {
      "text/plain": "9988"
     },
     "execution_count": 51,
     "metadata": {},
     "output_type": "execute_result"
    }
   ],
   "source": [
    "\n",
    "largest()"
   ],
   "metadata": {
    "collapsed": false,
    "pycharm": {
     "name": "#%%\n"
    }
   }
  },
  {
   "cell_type": "code",
   "execution_count": 37,
   "outputs": [],
   "source": [],
   "metadata": {
    "collapsed": false,
    "pycharm": {
     "name": "#%%\n"
    }
   }
  },
  {
   "cell_type": "code",
   "execution_count": 2,
   "outputs": [
    {
     "name": "stdout",
     "output_type": "stream",
     "text": [
      "monkey\n",
      "banana\n",
      "harpsichord\n"
     ]
    }
   ],
   "source": [
    "text = \"monkey,banana,harpsichord\"\n",
    "words = text.split(\",\")\n",
    "for word in words:\n",
    "    print(word)"
   ],
   "metadata": {
    "collapsed": false,
    "pycharm": {
     "name": "#%%\n"
    }
   }
  },
  {
   "cell_type": "code",
   "execution_count": 12,
   "outputs": [],
   "source": [
    "def read_fruits():\n",
    "    fruits = {}\n",
    "    with open(\"fruits.csv\") as new_file:\n",
    "        for line in new_file:\n",
    "            line = line.replace(\"\\n\", \"\")\n",
    "            parts = line.split(\";\")\n",
    "            for i in parts:\n",
    "                fruits[i] = parts[0]\n",
    "            #print(\"Name:\", name)\n",
    "            #print(\"Grades:\", grades)\n",
    "    print(fruits)"
   ],
   "metadata": {
    "collapsed": false,
    "pycharm": {
     "name": "#%%\n"
    }
   }
  },
  {
   "cell_type": "code",
   "execution_count": 13,
   "outputs": [
    {
     "name": "stdout",
     "output_type": "stream",
     "text": [
      "{'banana': 'banana', '6.50': 'banana', 'apple': 'apple', '2.85': 'apple', 'pineapple': 'pineapple', '9.50': 'pineapple', 'mango': 'mango', '6.75': 'mango', 'orange': 'orange', '5.50': 'orange', 'fig': 'fig', '11.0': 'fig', 'tangerine': 'tangerine', '5.75': 'tangerine', 'pomegranate': 'pomegranate', '11.50': 'pomegranate'}\n"
     ]
    }
   ],
   "source": [
    "read_fruits()"
   ],
   "metadata": {
    "collapsed": false,
    "pycharm": {
     "name": "#%%\n"
    }
   }
  },
  {
   "cell_type": "code",
   "execution_count": 3,
   "outputs": [],
   "source": [
    "name = \"Imaginary Irene\""
   ],
   "metadata": {
    "collapsed": false,
    "pycharm": {
     "name": "#%%\n"
    }
   }
  },
  {
   "cell_type": "code",
   "execution_count": 4,
   "outputs": [
    {
     "name": "stdout",
     "output_type": "stream",
     "text": [
      "2\n"
     ]
    }
   ],
   "source": [
    "print(name.count(\"I\"))"
   ],
   "metadata": {
    "collapsed": false,
    "pycharm": {
     "name": "#%%\n"
    }
   }
  },
  {
   "cell_type": "code",
   "execution_count": 5,
   "outputs": [
    {
     "name": "stdout",
     "output_type": "stream",
     "text": [
      "3\n"
     ]
    }
   ],
   "source": [
    "print(\"Irreverent Irises in Islington\".count(\"I\"))"
   ],
   "metadata": {
    "collapsed": false,
    "pycharm": {
     "name": "#%%\n"
    }
   }
  },
  {
   "cell_type": "code",
   "execution_count": 7,
   "outputs": [
    {
     "name": "stdout",
     "output_type": "stream",
     "text": [
      "10\n"
     ]
    }
   ],
   "source": [
    "print(name.find(\"Irene\"))"
   ],
   "metadata": {
    "collapsed": false,
    "pycharm": {
     "name": "#%%\n"
    }
   }
  },
  {
   "cell_type": "code",
   "execution_count": 8,
   "outputs": [
    {
     "name": "stdout",
     "output_type": "stream",
     "text": [
      "-1\n"
     ]
    }
   ],
   "source": [
    "print(\"A comletely different string\".find(\"Irene\"))"
   ],
   "metadata": {
    "collapsed": false,
    "pycharm": {
     "name": "#%%\n"
    }
   }
  },
  {
   "cell_type": "code",
   "execution_count": 35,
   "outputs": [],
   "source": [
    "person1 = {\"name\": \"Mary\", \"result1\": 2, \"result2\": 3, \"result3\": 3}\n",
    "person2 = {\"name\": \"Gary\", \"result1\": 5, \"result2\": 1, \"result3\": 8}\n",
    "person3 = {\"name\": \"Larry\", \"result1\": 3, \"result2\": 1, \"result3\": 1}\n"
   ],
   "metadata": {
    "collapsed": false,
    "pycharm": {
     "name": "#%%\n"
    }
   }
  },
  {
   "cell_type": "code",
   "execution_count": 64,
   "outputs": [
    {
     "name": "stdout",
     "output_type": "stream",
     "text": [
      "3\n"
     ]
    }
   ],
   "source": [
    "avereage = 0\n",
    "sum = 0\n",
    "name = \"\"\n",
    "for key, value in person1.items():\n",
    "    if type(value) == str:\n",
    "        continue\n",
    "    else:\n",
    "        sum = sum + value\n",
    "number = len(person1)-1\n",
    "\n"
   ],
   "metadata": {
    "collapsed": false,
    "pycharm": {
     "name": "#%%\n"
    }
   }
  },
  {
   "cell_type": "code",
   "execution_count": 73,
   "outputs": [],
   "source": [
    "person1 = {\"name\": \"Mary\", \"result1\": 9, \"result2\": 9, \"result3\": 9}\n",
    "person2 = {\"name\": \"Gary\", \"result1\": 7, \"result2\": 7, \"result3\": 7}\n",
    "person3 = {\"name\": \"Larry\", \"result1\": 8, \"result2\": 8, \"result3\": 8}"
   ],
   "metadata": {
    "collapsed": false,
    "pycharm": {
     "name": "#%%\n"
    }
   }
  },
  {
   "cell_type": "code",
   "execution_count": 78,
   "outputs": [],
   "source": [
    "def smallest_average(person1: dict, person2: dict, person3: dict):\n",
    "    average1= 0\n",
    "    number = len(person1)-1\n",
    "    average2= 0\n",
    "    average3= 0\n",
    "    sum1 = 0\n",
    "    sum2 = 0\n",
    "    sum3 = 0\n",
    "    for key, value1 in person1.items():\n",
    "        if type(value1) == str:\n",
    "            continue\n",
    "        else:\n",
    "            sum1 = sum1 + value1\n",
    "            average1 = sum1 / number\n",
    "    for key, value2 in person2.items():\n",
    "        if type(value2) == str:\n",
    "            continue\n",
    "        else:\n",
    "            sum2 = sum2 + value2\n",
    "            average2 = sum2 / number\n",
    "    for key, value3 in person3.items():\n",
    "        if type(value3) == str:\n",
    "            continue\n",
    "        else:\n",
    "            sum3 = sum3 + value3\n",
    "            average3 = sum3 / number\n",
    "    print(average1)\n",
    "    print(average2)\n",
    "    print(average3)\n",
    "    if average1 < average2 and average1 < average3:\n",
    "        return person1\n",
    "    elif average2 < average1 and average2 < average3:\n",
    "        return person2\n",
    "    else:\n",
    "        return person3\n",
    "\n",
    "\n",
    "\n"
   ],
   "metadata": {
    "collapsed": false,
    "pycharm": {
     "name": "#%%\n"
    }
   }
  },
  {
   "cell_type": "code",
   "execution_count": 79,
   "outputs": [
    {
     "name": "stdout",
     "output_type": "stream",
     "text": [
      "9.0\n",
      "7.0\n",
      "8.0\n"
     ]
    },
    {
     "data": {
      "text/plain": "{'name': 'Gary', 'result1': 7, 'result2': 7, 'result3': 7}"
     },
     "execution_count": 79,
     "metadata": {},
     "output_type": "execute_result"
    }
   ],
   "source": [
    "smallest_average(person1, person2, person3)"
   ],
   "metadata": {
    "collapsed": false,
    "pycharm": {
     "name": "#%%\n"
    }
   }
  },
  {
   "cell_type": "code",
   "execution_count": 89,
   "outputs": [],
   "source": [
    "def average(person: dict):\n",
    "    ex_sum = person[\"result1\"] + person[\"result2\"]+ person[\"result3\"]\n",
    "    return ex_sum/3\n",
    "\n",
    "def smallest_average(person1: dict, person2: dict, person3: dict):\n",
    "    smallest = person1\n",
    "\n",
    "    if average(person2) < average(smallest):\n",
    "        smallest = person2\n",
    "\n",
    "    if average(person3) < average(smallest):\n",
    "        smallest = person3\n",
    "    return smallest"
   ],
   "metadata": {
    "collapsed": false,
    "pycharm": {
     "name": "#%%\n"
    }
   }
  },
  {
   "cell_type": "code",
   "execution_count": 90,
   "outputs": [
    {
     "name": "stdout",
     "output_type": "stream",
     "text": [
      "{'name': 'Larry', 'result1': 3, 'result2': 1, 'result3': 1}\n"
     ]
    }
   ],
   "source": [
    "person1 = {\"name\": \"Mary\", \"result1\": 2, \"result2\": 3, \"result3\": 3}\n",
    "person2 = {\"name\": \"Gary\", \"result1\": 5, \"result2\": 1, \"result3\": 8}\n",
    "person3 = {\"name\": \"Larry\", \"result1\": 3, \"result2\": 1, \"result3\": 1}\n",
    "\n",
    "print(smallest_average(person1, person2, person3))"
   ],
   "metadata": {
    "collapsed": false,
    "pycharm": {
     "name": "#%%\n"
    }
   }
  },
  {
   "cell_type": "code",
   "execution_count": null,
   "outputs": [],
   "source": [
    "def row_sums(matrix: list):\n"
   ],
   "metadata": {
    "collapsed": false,
    "pycharm": {
     "name": "#%%\n"
    }
   }
  },
  {
   "cell_type": "code",
   "execution_count": 91,
   "outputs": [
    {
     "ename": "NameError",
     "evalue": "name 'row_sums' is not defined",
     "output_type": "error",
     "traceback": [
      "\u001B[1;31m---------------------------------------------------------------------------\u001B[0m",
      "\u001B[1;31mNameError\u001B[0m                                 Traceback (most recent call last)",
      "Input \u001B[1;32mIn [91]\u001B[0m, in \u001B[0;36m<module>\u001B[1;34m\u001B[0m\n\u001B[0;32m      1\u001B[0m my_matrix \u001B[38;5;241m=\u001B[39m [[\u001B[38;5;241m1\u001B[39m, \u001B[38;5;241m2\u001B[39m], [\u001B[38;5;241m3\u001B[39m, \u001B[38;5;241m4\u001B[39m]]\n\u001B[1;32m----> 2\u001B[0m \u001B[43mrow_sums\u001B[49m(my_matrix)\n\u001B[0;32m      3\u001B[0m \u001B[38;5;28mprint\u001B[39m(my_matrix)\n",
      "\u001B[1;31mNameError\u001B[0m: name 'row_sums' is not defined"
     ]
    }
   ],
   "source": [
    "my_matrix = [[1, 2], [3, 4]]\n",
    "row_sums(my_matrix)\n",
    "print(my_matrix)"
   ],
   "metadata": {
    "collapsed": false,
    "pycharm": {
     "name": "#%%\n"
    }
   }
  },
  {
   "cell_type": "code",
   "execution_count": 188,
   "outputs": [],
   "source": [
    "my_matrix = [[1, 2], [3, 4]]\n",
    "row1 = my_matrix[0]\n",
    "row2 = my_matrix[1]"
   ],
   "metadata": {
    "collapsed": false,
    "pycharm": {
     "name": "#%%\n"
    }
   }
  },
  {
   "cell_type": "code",
   "source": [
    "def sumoflist(list: list):\n",
    "    total = 0\n",
    "    for i in list:\n",
    "        total +=i\n",
    "    return total\n",
    "\n",
    "def row_sums(my)"
   ],
   "metadata": {
    "collapsed": false,
    "pycharm": {
     "name": "#%%\n"
    }
   },
   "execution_count": 189,
   "outputs": [
    {
     "ename": "SyntaxError",
     "evalue": "expected ':' (2237852665.py, line 7)",
     "output_type": "error",
     "traceback": [
      "\u001B[1;36m  Input \u001B[1;32mIn [189]\u001B[1;36m\u001B[0m\n\u001B[1;33m    def row_sums(my)\u001B[0m\n\u001B[1;37m                    ^\u001B[0m\n\u001B[1;31mSyntaxError\u001B[0m\u001B[1;31m:\u001B[0m expected ':'\n"
     ]
    }
   ]
  },
  {
   "cell_type": "code",
   "execution_count": 190,
   "outputs": [],
   "source": [
    "def row_sums(my_matrix: list):\n",
    "    index = 0\n",
    "    import numpy as np\n",
    "    a = np.array(my_matrix)\n",
    "    res = np.sum(a, axis=1)\n",
    "    for i in res:\n",
    "        my_matrix[index].append(i)\n",
    "        index +=1\n",
    "\n",
    "    print(my_matrix)\n"
   ],
   "metadata": {
    "collapsed": false,
    "pycharm": {
     "name": "#%%\n"
    }
   }
  },
  {
   "cell_type": "code",
   "source": [
    "row_sums([[2, 2, 2], [4, 4, 4], [6, 6, 6]])"
   ],
   "metadata": {
    "collapsed": false,
    "pycharm": {
     "name": "#%%\n"
    }
   },
   "execution_count": 193,
   "outputs": [
    {
     "name": "stdout",
     "output_type": "stream",
     "text": [
      "[[2, 2, 2, 6], [4, 4, 4, 12], [6, 6, 6, 18]]\n"
     ]
    }
   ]
  },
  {
   "cell_type": "code",
   "execution_count": 194,
   "outputs": [
    {
     "data": {
      "text/plain": "[[1, 2], [3, 4]]"
     },
     "execution_count": 194,
     "metadata": {},
     "output_type": "execute_result"
    }
   ],
   "source": [
    "my_matrix"
   ],
   "metadata": {
    "collapsed": false,
    "pycharm": {
     "name": "#%%\n"
    }
   }
  },
  {
   "cell_type": "code",
   "execution_count": 195,
   "outputs": [
    {
     "name": "stdout",
     "output_type": "stream",
     "text": [
      "[[1, 1, 2], [2, 2, 4]]\n"
     ]
    }
   ],
   "source": [
    "row_sums([[1,1],[2,2]])"
   ],
   "metadata": {
    "collapsed": false,
    "pycharm": {
     "name": "#%%\n"
    }
   }
  },
  {
   "cell_type": "code",
   "execution_count": null,
   "outputs": [],
   "source": [],
   "metadata": {
    "collapsed": false,
    "pycharm": {
     "name": "#%%\n"
    }
   }
  }
 ],
 "metadata": {
  "kernelspec": {
   "display_name": "Python 3",
   "language": "python",
   "name": "python3"
  },
  "language_info": {
   "codemirror_mode": {
    "name": "ipython",
    "version": 2
   },
   "file_extension": ".py",
   "mimetype": "text/x-python",
   "name": "python",
   "nbconvert_exporter": "python",
   "pygments_lexer": "ipython2",
   "version": "2.7.6"
  }
 },
 "nbformat": 4,
 "nbformat_minor": 0
}