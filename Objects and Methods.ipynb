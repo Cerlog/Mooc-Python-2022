{
 "cells": [
  {
   "cell_type": "code",
   "execution_count": 1,
   "metadata": {
    "collapsed": true
   },
   "outputs": [],
   "source": [
    "book = {\"name\": \"The Old Man and the Pythons\", \"author\": \"Ernest Pythons\", \"year\": 1952}"
   ]
  },
  {
   "cell_type": "code",
   "execution_count": 2,
   "outputs": [
    {
     "name": "stdout",
     "output_type": "stream",
     "text": [
      "The Old Man and the Pythons\n",
      "Ernest Pythons\n",
      "1952\n"
     ]
    }
   ],
   "source": [
    "for value in book.values():\n",
    "    print(value)"
   ],
   "metadata": {
    "collapsed": false,
    "pycharm": {
     "name": "#%%\n"
    }
   }
  },
  {
   "cell_type": "code",
   "execution_count": 7,
   "outputs": [
    {
     "name": "stdout",
     "output_type": "stream",
     "text": [
      "2\n",
      "3\n",
      "10\n",
      "-1\n"
     ]
    }
   ],
   "source": [
    "name = \"Imaginary Irene\"\n",
    "\n",
    "# Print out the number of times the letter I is found\n",
    "print(name.count(\"I\"))\n",
    "\n",
    "# The number of letters I found in another string\n",
    "print(\"Irreverent Irises in Islington\".count(\"I\"))\n",
    "\n",
    "# The index of the substring Irene\n",
    "print(name.find(\"Irene\"))\n",
    "\n",
    "# This string has no such substring\n",
    "print(\"A completely different string\".find(\"Irene\"))\n"
   ],
   "metadata": {
    "collapsed": false,
    "pycharm": {
     "name": "#%%\n"
    }
   }
  },
  {
   "cell_type": "code",
   "execution_count": 8,
   "outputs": [
    {
     "name": "stdout",
     "output_type": "stream",
     "text": [
      "[1, 2, 3, 5, 1]\n",
      "[2, 3, 5, 1]\n"
     ]
    }
   ],
   "source": [
    "my_list = [1,2,3]\n",
    "\n",
    "# Add a couple of items\n",
    "my_list.append(5)\n",
    "my_list.append(1)\n",
    "\n",
    "print(my_list)\n",
    "\n",
    "# Remove the first item\n",
    "my_list.pop(0)\n",
    "\n",
    "print(my_list)"
   ],
   "metadata": {
    "collapsed": false,
    "pycharm": {
     "name": "#%%\n"
    }
   }
  },
  {
   "cell_type": "code",
   "execution_count": 9,
   "outputs": [],
   "source": [
    "person1 = {\"name\": \"Mary\", \"result1\": 2, \"result2\": 3, \"result3\": 3}\n",
    "person2 = {\"name\": \"Gary\", \"result1\": 5, \"result2\": 1, \"result3\": 8}\n",
    "person3 = {\"name\": \"Larry\", \"result1\": 3, \"result2\": 1, \"result3\": 1}"
   ],
   "metadata": {
    "collapsed": false,
    "pycharm": {
     "name": "#%%\n"
    }
   }
  },
  {
   "cell_type": "code",
   "execution_count": null,
   "outputs": [],
   "source": [
    "def smallest_average(person1: dict, person2: dict, person3: dict):\n",
    "    for value in"
   ],
   "metadata": {
    "collapsed": false,
    "pycharm": {
     "name": "#%%\n"
    }
   }
  },
  {
   "cell_type": "code",
   "execution_count": 10,
   "outputs": [
    {
     "name": "stdout",
     "output_type": "stream",
     "text": [
      "Your age at the end of the year 2021: 121\n"
     ]
    }
   ],
   "source": [
    "year = int(input(\"Which year were you born? \"))\n",
    "print(f\"Your age at the end of the year 2021: {2021 - year}\")"
   ],
   "metadata": {
    "collapsed": false,
    "pycharm": {
     "name": "#%%\n"
    }
   }
  },
  {
   "cell_type": "code",
   "execution_count": null,
   "outputs": [],
   "source": [],
   "metadata": {
    "collapsed": false,
    "pycharm": {
     "name": "#%%\n"
    }
   }
  },
  {
   "cell_type": "code",
   "execution_count": 12,
   "outputs": [
    {
     "name": "stdout",
     "output_type": "stream",
     "text": [
      "Average food expenditure:\n",
      "Daily: 4.5\n",
      "Weekly: 31.5\n"
     ]
    }
   ],
   "source": [
    "# Write your solution here\n",
    "days = int(input(\"How many times a week do you eat at the student cafeteria?\"))\n",
    "price = float(input(\"The price of a typical student lunch?\"))\n",
    "week = float(input(\"How much money do you spend on groceries in a week?\"))\n",
    "\n",
    "print(\"Average food expenditure:\")\n",
    "print(f\"Daily: {(days*price+week)/7}\")\n",
    "print(f\"Weekly: {days*price + week}\")"
   ],
   "metadata": {
    "collapsed": false,
    "pycharm": {
     "name": "#%%\n"
    }
   }
  },
  {
   "cell_type": "code",
   "execution_count": null,
   "outputs": [],
   "source": [
    "print(\"What is the weather forecast for tomorrow?\")\n",
    "temp = int(input(\"Temperature:\"))\n",
    "rain = input(\"Will it rain (yes/no):\")\n",
    "\n",
    "\n",
    "if temp >= 20 and rain == \"no\":\n",
    "    print(\"Wear jeans and a T-shirt\")\n",
    "elif temp  >= 20 and rain == \"yes\":\n",
    "    print(\"Wear jeans and a T-shirt\")\n",
    "elif temp >= 10 and rain == \"no\":\n",
    "    print(\"\")"
   ],
   "metadata": {
    "collapsed": false,
    "pycharm": {
     "name": "#%%\n"
    }
   }
  },
  {
   "cell_type": "code",
   "execution_count": 1,
   "outputs": [],
   "source": [
    "# Write your solution here\n",
    "y = int(input(\"Please type in a year: \"))\n",
    "if y % 4 == 0:\n",
    "    print(\"That year is a leap year.\")\n",
    "elif y % 4 != 0:\n",
    "    if y % 100 == 0 and y % 400 == 0:\n",
    "        print(\"That year is a leap year.\")\n",
    "else:\n",
    "    print(\"That year is not a leap year.\")"
   ],
   "metadata": {
    "collapsed": false,
    "pycharm": {
     "name": "#%%\n"
    }
   }
  },
  {
   "cell_type": "code",
   "execution_count": 29,
   "outputs": [],
   "source": [
    "l1 = input(\"1st letter\")\n",
    "l2 = input(\"2nd letter\")\n",
    "l3 = input(\"3rd letter\")\n",
    "\n",
    "\n",
    "\n",
    "if l1.isupper() == True and l2.isupper() == True and l3.isupper() == True:\n",
    "    if l1 > l2 and l1 > l3:\n",
    "        if l2 < l3:\n",
    "            print(f\"1The letter in the middle is {l3}\")\n",
    "    if l2 > l1 and l2 > l3:\n",
    "        if l3 < l1:\n",
    "            print(f\"2The letter in the middle is {l1}\")\n",
    "    if l3 > l1 and l3 > l2:\n",
    "        if l1 > l2:\n",
    "            print(f\"3The letter in the middle is {l2}\")\n",
    "\n",
    "\n",
    "if l1.isupper() == False and l2.isupper() == False and l3.isupper() == False:\n",
    "    if l1 > l2 and l1 > l3:\n",
    "        if l2 < l3:\n",
    "            print(f\"1The letter in the middle is {l3}\")\n",
    "    if l2 > l1 and l2 > l3:\n",
    "        if l3 < l1:\n",
    "            print(f\"2The letter in the middle is {l1}\")\n",
    "    if l3 > l1 and l3 > l2:\n",
    "        if l1 > l2:\n",
    "            print(f\"3The letter in the middle is {l2}\")"
   ],
   "metadata": {
    "collapsed": false,
    "pycharm": {
     "name": "#%%\n"
    }
   }
  },
  {
   "cell_type": "code",
   "execution_count": 48,
   "outputs": [
    {
     "ename": "TypeError",
     "evalue": "'int' object is not callable",
     "output_type": "error",
     "traceback": [
      "\u001B[1;31m---------------------------------------------------------------------------\u001B[0m",
      "\u001B[1;31mTypeError\u001B[0m                                 Traceback (most recent call last)",
      "Input \u001B[1;32mIn [48]\u001B[0m, in \u001B[0;36m<module>\u001B[1;34m\u001B[0m\n\u001B[0;32m      3\u001B[0m l3 \u001B[38;5;241m=\u001B[39m \u001B[38;5;28mord\u001B[39m(\u001B[38;5;28minput\u001B[39m(\u001B[38;5;124m\"\u001B[39m\u001B[38;5;124m3rd letter\u001B[39m\u001B[38;5;124m\"\u001B[39m))\n\u001B[0;32m      5\u001B[0m \u001B[38;5;28mlist\u001B[39m \u001B[38;5;241m=\u001B[39m [l1, l2,l3]\n\u001B[1;32m----> 6\u001B[0m \u001B[38;5;28mlist\u001B[39m\u001B[38;5;241m.\u001B[39mremove(\u001B[38;5;28;43mmax\u001B[39;49m\u001B[43m(\u001B[49m\u001B[38;5;28;43mlist\u001B[39;49m\u001B[43m)\u001B[49m)\n\u001B[0;32m      7\u001B[0m \u001B[38;5;28mlist\u001B[39m\u001B[38;5;241m.\u001B[39mremove(\u001B[38;5;28mmin\u001B[39m(\u001B[38;5;28mlist\u001B[39m))\n\u001B[0;32m      9\u001B[0m \u001B[38;5;66;03m#list.pop(max)\u001B[39;00m\n\u001B[0;32m     10\u001B[0m \u001B[38;5;66;03m#list.pop(min)\u001B[39;00m\n",
      "\u001B[1;31mTypeError\u001B[0m: 'int' object is not callable"
     ]
    }
   ],
   "source": [
    "l1 = ord(input(\"1st letter\"))\n",
    "l2 = ord(input(\"2nd letter\"))\n",
    "l3 = ord(input(\"3rd letter\"))\n",
    "\n",
    "list = [l1, l2,l3]\n",
    "list.remove(max(list))\n",
    "list.remove(min(list))\n",
    "\n",
    "#list.pop(max)\n",
    "#list.pop(min)\n",
    "\n",
    "print(list)\n",
    "\n"
   ],
   "metadata": {
    "collapsed": false,
    "pycharm": {
     "name": "#%%\n"
    }
   }
  },
  {
   "cell_type": "code",
   "execution_count": 2,
   "outputs": [],
   "source": [
    "l1 = input(\"1st letter\")\n",
    "l2 = input(\"2nd letter\")\n",
    "l3 = input(\"3rd letter\")\n",
    "\n",
    "if l1.isupper() == True and l2.isupper() == True and l3.isupper() == True:\n",
    "    if l1 < l3 and \n",
    "    \n",
    "    \n",
    "    \n",
    "    if l1 > l2 and l1 > l3:\n",
    "        if l2 < l3:\n",
    "            print(f\"1The letter in the middle is {l3}\")\n",
    "    if l2 > l1 and l2 > l3:\n",
    "        if l3 < l1:\n",
    "            print(f\"2The letter in the middle is {l1}\")\n",
    "    if l3 > l1 and l3 > l2:\n",
    "        if l1 < l2:\n",
    "            print(f\"3The letter in the middle is {l2}\")\n",
    "    \n",
    "\n",
    "\n",
    "elif l1.isupper() == False and l2.isupper() == False and l3.isupper() == False:\n",
    "    if l1 > l2 and l1 > l3:\n",
    "        if l2 < l3:\n",
    "            print(f\"1The letter in the middle is {l3}\")\n",
    "    if l2 > l1 and l2 > l3:\n",
    "        if l3 < l1:\n",
    "            print(f\"2The letter in the middle is {l1}\")\n",
    "    if l3 > l1 and l3 > l2:\n",
    "        if l1 < l2:\n",
    "            print(f\"3The letter in the middle is {l2}\")"
   ],
   "metadata": {
    "collapsed": false,
    "pycharm": {
     "name": "#%%\n"
    }
   }
  },
  {
   "cell_type": "code",
   "execution_count": null,
   "outputs": [],
   "source": [],
   "metadata": {
    "collapsed": false,
    "pycharm": {
     "name": "#%%\n"
    }
   }
  },
  {
   "cell_type": "code",
   "execution_count": 10,
   "outputs": [
    {
     "name": "stdout",
     "output_type": "stream",
     "text": [
      "Countdown!\n",
      "5\n",
      "4\n",
      "3\n",
      "2\n",
      "1\n",
      "Now!\n"
     ]
    }
   ],
   "source": [
    "number = 5\n",
    "print(\"Countdown!\")\n",
    "while True:\n",
    "  print(number)\n",
    "  number = number - 1\n",
    "  if number <= 0:\n",
    "    break\n",
    "\n",
    "print(\"Now!\")\n"
   ],
   "metadata": {
    "collapsed": false,
    "pycharm": {
     "name": "#%%\n"
    }
   }
  },
  {
   "cell_type": "code",
   "execution_count": 15,
   "outputs": [
    {
     "name": "stdout",
     "output_type": "stream",
     "text": [
      "The next leap year after 2024 is 2028\n"
     ]
    }
   ],
   "source": [
    "# Write your solution here\n",
    "\n",
    "y = int(input(\"Year:\"))\n",
    "if y % 4 == 0 and y % 100 != 0:\n",
    "    next = y + 4\n",
    "    print(f\"The next leap year after {y} is {next}\")\n",
    "elif y % 100 == 0 and y % 400 == 0:\n",
    "    next = y + 4\n",
    "    print(f\"The next leap year after {y} is {next}\")\n",
    "\n",
    "\n",
    "\n"
   ],
   "metadata": {
    "collapsed": false,
    "pycharm": {
     "name": "#%%\n"
    }
   }
  },
  {
   "cell_type": "code",
   "execution_count": 22,
   "outputs": [
    {
     "name": "stdout",
     "output_type": "stream",
     "text": [
      "Hello World \n"
     ]
    }
   ],
   "source": [
    "# Write your solution here\n",
    "sentence = \"\"\n",
    "while True:\n",
    "    wordinp = input(\"Please type in a word:\")\n",
    "\n",
    "\n",
    "    if wordinp == \"end\":\n",
    "        break\n",
    "    elif wordinp in sentence:\n",
    "        break\n",
    "\n",
    "    sentence += wordinp + \" \"\n",
    "\n",
    "\n",
    "print(sentence)"
   ],
   "metadata": {
    "collapsed": false,
    "pycharm": {
     "name": "#%%\n"
    }
   }
  },
  {
   "cell_type": "code",
   "execution_count": 5,
   "outputs": [
    {
     "name": "stdout",
     "output_type": "stream",
     "text": [
      "1\n",
      "2\n",
      "4\n",
      "8\n",
      "16\n",
      "32\n",
      "64\n"
     ]
    }
   ],
   "source": [
    "limit = int(input(\"Upper limit\"))\n",
    "number = 1\n",
    "while number <= limit:\n",
    "    print(number)\n",
    "    number *=2"
   ],
   "metadata": {
    "collapsed": false,
    "pycharm": {
     "name": "#%%\n"
    }
   }
  },
  {
   "cell_type": "code",
   "execution_count": 15,
   "outputs": [
    {
     "name": "stdout",
     "output_type": "stream",
     "text": [
      "2\n",
      "3\n",
      "4\n",
      "5\n",
      "6\n",
      "7\n",
      "8\n",
      "9\n",
      "10\n",
      "11\n",
      "11\n"
     ]
    }
   ],
   "source": [
    "# Write your solution here\n",
    "limit = int(input(\"Limit:\"))\n",
    "sums = 1\n",
    "while sums <= limit:\n",
    "    sums = sums +1\n",
    "    print(sums)\n",
    "print(sums)"
   ],
   "metadata": {
    "collapsed": false,
    "pycharm": {
     "name": "#%%\n"
    }
   }
  },
  {
   "cell_type": "code",
   "execution_count": null,
   "outputs": [
    {
     "name": "stdout",
     "output_type": "stream",
     "text": [
      "26\n"
     ]
    },
    {
     "ename": "ValueError",
     "evalue": "invalid literal for int() with base 10: ''",
     "output_type": "error",
     "traceback": [
      "\u001B[1;31m---------------------------------------------------------------------------\u001B[0m",
      "\u001B[1;31mValueError\u001B[0m                                Traceback (most recent call last)",
      "Input \u001B[1;32mIn [41]\u001B[0m, in \u001B[0;36m<module>\u001B[1;34m\u001B[0m\n\u001B[1;32m----> 1\u001B[0m num \u001B[38;5;241m=\u001B[39m \u001B[38;5;28;43mint\u001B[39;49m\u001B[43m(\u001B[49m\u001B[38;5;28;43minput\u001B[39;49m\u001B[43m(\u001B[49m\u001B[38;5;124;43m\"\u001B[39;49m\u001B[38;5;124;43mLimit:\u001B[39;49m\u001B[38;5;124;43m\"\u001B[39;49m\u001B[43m)\u001B[49m\u001B[43m)\u001B[49m\n\u001B[0;32m      2\u001B[0m counter \u001B[38;5;241m=\u001B[39m \u001B[38;5;241m0\u001B[39m\n\u001B[0;32m      3\u001B[0m sumNums \u001B[38;5;241m=\u001B[39m \u001B[38;5;241m0\u001B[39m\n",
      "\u001B[1;31mValueError\u001B[0m: invalid literal for int() with base 10: ''"
     ]
    }
   ],
   "source": [
    "limit = int(input(\"Limit:\"))\n",
    "\n",
    "base = 0\n",
    "num = 1\n",
    "\n",
    "# Each time base is less than limit, add base by num (At the first iteration num is 1), and add num by 1\n",
    "while base < limit:\n",
    "    base += num\n",
    "    num += 1\n",
    "print(f\"The consecutive sum: {num} + {base} = {base}\")\n"
   ],
   "metadata": {
    "collapsed": false,
    "pycharm": {
     "name": "#%%\n"
    }
   }
  },
  {
   "cell_type": "code",
   "execution_count": null,
   "outputs": [],
   "source": [],
   "metadata": {
    "collapsed": false,
    "pycharm": {
     "name": "#%%\n"
    }
   }
  },
  {
   "cell_type": "code",
   "execution_count": null,
   "outputs": [],
   "source": [],
   "metadata": {
    "collapsed": false,
    "pycharm": {
     "name": "#%%\n"
    }
   }
  },
  {
   "cell_type": "code",
   "execution_count": null,
   "outputs": [],
   "source": [],
   "metadata": {
    "collapsed": false,
    "pycharm": {
     "name": "#%%\n"
    }
   }
  },
  {
   "cell_type": "code",
   "execution_count": null,
   "outputs": [],
   "source": [
    "limit = int(input(\"Limit:\"))\n",
    "\n",
    "base = 0\n",
    "num = 1\n",
    "\n",
    "# Each time base is less than limit, add base by num (At the first iteration num is 1), and add num by 1\n",
    "while base < limit:\n",
    "    base += num\n",
    "    num += 1\n",
    "print(f\"The consecutive sum: {num} + {base} = {base}\")"
   ],
   "metadata": {
    "collapsed": false,
    "pycharm": {
     "name": "#%%\n"
    }
   }
  },
  {
   "cell_type": "code",
   "execution_count": null,
   "outputs": [],
   "source": [],
   "metadata": {
    "collapsed": false,
    "pycharm": {
     "name": "#%%\n"
    }
   }
  },
  {
   "cell_type": "code",
   "execution_count": 51,
   "outputs": [
    {
     "name": "stdout",
     "output_type": "stream",
     "text": [
      "          *\n",
      "         ***\n",
      "        *****\n",
      "       *******\n",
      "      *********\n",
      "     ***********\n",
      "    *************\n",
      "   ***************\n",
      "  *****************\n",
      " *******************\n"
     ]
    }
   ],
   "source": [
    "n = 10 # number of layers in the pyramid\n",
    "row = \"*\"\n",
    "\n",
    "while n > 0:\n",
    "    print(\" \" * n + row)\n",
    "    row += \"**\"\n",
    "    n -= 1"
   ],
   "metadata": {
    "collapsed": false,
    "pycharm": {
     "name": "#%%\n"
    }
   }
  },
  {
   "cell_type": "code",
   "execution_count": 52,
   "outputs": [
    {
     "name": "stdout",
     "output_type": "stream",
     "text": [
      "Sex\n",
      "---\n"
     ]
    }
   ],
   "source": [
    "input_string = input(\"Please type in a string: \")\n",
    "print(input_string)\n",
    "\n",
    "print(\"-\"* len(input_string))"
   ],
   "metadata": {
    "collapsed": false,
    "pycharm": {
     "name": "#%%\n"
    }
   }
  },
  {
   "cell_type": "code",
   "execution_count": 54,
   "outputs": [
    {
     "data": {
      "text/plain": "5"
     },
     "execution_count": 54,
     "metadata": {},
     "output_type": "execute_result"
    }
   ],
   "source": [
    "len(\"peter\")\n"
   ],
   "metadata": {
    "collapsed": false,
    "pycharm": {
     "name": "#%%\n"
    }
   }
  },
  {
   "cell_type": "code",
   "execution_count": 62,
   "outputs": [
    {
     "data": {
      "text/plain": "'a'"
     },
     "execution_count": 62,
     "metadata": {},
     "output_type": "execute_result"
    }
   ],
   "source": [
    "s = \"pascal\"\n",
    "#len(s)\n",
    "s[-2]\n",
    "#s[1]"
   ],
   "metadata": {
    "collapsed": false,
    "pycharm": {
     "name": "#%%\n"
    }
   }
  },
  {
   "cell_type": "code",
   "execution_count": 73,
   "outputs": [
    {
     "name": "stdout",
     "output_type": "stream",
     "text": [
      "#\n",
      "#\n",
      "#\n",
      "#\n",
      "#\n",
      "#\n",
      "#\n",
      "#\n",
      "#\n"
     ]
    }
   ],
   "source": [
    "# Write your solution here\n",
    "# Write your solution here\n",
    "w = int(input(\"Width\"))\n",
    "h = int(input(\"Height\"))\n",
    "text = \"#\"\n",
    "for i in range(h):\n",
    "    for j in range(w):\n",
    "        print(text)\n",
    "\n",
    "#print(f\"{text*w}\")"
   ],
   "metadata": {
    "collapsed": false,
    "pycharm": {
     "name": "#%%\n"
    }
   }
  },
  {
   "cell_type": "code",
   "execution_count": 75,
   "outputs": [
    {
     "name": "stdout",
     "output_type": "stream",
     "text": [
      "##########\n"
     ]
    }
   ],
   "source": [
    "w = int(input(\"Width\"))\n",
    "#h = int(input(\"Height\"))\n",
    "row = \"#\" * w\n",
    "print(row)"
   ],
   "metadata": {
    "collapsed": false,
    "pycharm": {
     "name": "#%%\n"
    }
   }
  },
  {
   "cell_type": "code",
   "execution_count": null,
   "outputs": [],
   "source": [],
   "metadata": {
    "collapsed": false,
    "pycharm": {
     "name": "#%%\n"
    }
   }
  }
 ],
 "metadata": {
  "kernelspec": {
   "display_name": "Python 3",
   "language": "python",
   "name": "python3"
  },
  "language_info": {
   "codemirror_mode": {
    "name": "ipython",
    "version": 2
   },
   "file_extension": ".py",
   "mimetype": "text/x-python",
   "name": "python",
   "nbconvert_exporter": "python",
   "pygments_lexer": "ipython2",
   "version": "2.7.6"
  }
 },
 "nbformat": 4,
 "nbformat_minor": 0
}