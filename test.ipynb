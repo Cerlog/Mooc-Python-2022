{
 "cells": [
  {
   "cell_type": "code",
   "execution_count": 10,
   "outputs": [
    {
     "name": "stdout",
     "output_type": "stream",
     "text": [
      "not good\n",
      "not good\n",
      "awful\n",
      "not good\n",
      "an excellent choice!\n",
      "Correct PIN entered!\n"
     ]
    }
   ],
   "source": [
    "while True:\n",
    "    program = input(\"Please type in your PIN: \")\n",
    "    if program == \"Visual Studio Code\" or program.lower() == \"visual studio code\":\n",
    "        print(\"an excellent choice!\")\n",
    "        break\n",
    "    elif program == \"Word\" or program == \"Notepad\" or program.lower() == \"word\" or program.lower() == \"notepad\":\n",
    "        print(\"awful\")\n",
    "    else:\n",
    "        print(\"not good\")\n"
   ],
   "metadata": {
    "collapsed": false,
    "pycharm": {
     "name": "#%%\n"
    }
   }
  },
  {
   "cell_type": "code",
   "execution_count": 11,
   "outputs": [],
   "source": [
    "def line(a, b):\n",
    "    if b == \"\":\n",
    "        print(\"*\" * a)\n",
    "    else:\n",
    "        print(b[0] * a)"
   ],
   "metadata": {
    "collapsed": false,
    "pycharm": {
     "name": "#%%\n"
    }
   }
  },
  {
   "cell_type": "code",
   "execution_count": 12,
   "outputs": [
    {
     "name": "stdout",
     "output_type": "stream",
     "text": [
      "*****\n"
     ]
    }
   ],
   "source": [
    "line(5, \"\")"
   ],
   "metadata": {
    "collapsed": false,
    "pycharm": {
     "name": "#%%\n"
    }
   }
  },
  {
   "cell_type": "code",
   "execution_count": 13,
   "outputs": [
    {
     "name": "stdout",
     "output_type": "stream",
     "text": [
      "Hello there,  Emily\n",
      "Hello there,  Emily\n",
      "Hello there,  Emily\n"
     ]
    }
   ],
   "source": [
    "def greet(name):\n",
    "    print(\"Hello there, \", name)\n",
    "\n",
    "def greet_many_times(name, times):\n",
    "    while times > 0:\n",
    "        greet(name)\n",
    "        times -=1\n",
    "\n",
    "greet_many_times(\"Emily\", 3)"
   ],
   "metadata": {
    "collapsed": false,
    "pycharm": {
     "name": "#%%\n"
    }
   }
  },
  {
   "cell_type": "code",
   "execution_count": 16,
   "outputs": [
    {
     "name": "stdout",
     "output_type": "stream",
     "text": [
      "##########\n"
     ]
    }
   ],
   "source": [
    "#def box_of_hashes(a):\n",
    "#    for i in range(a):\n",
    "#        print(\"#\" * a)"
   ],
   "metadata": {
    "collapsed": false,
    "pycharm": {
     "name": "#%%\n"
    }
   }
  },
  {
   "cell_type": "code",
   "execution_count": 61,
   "outputs": [
    {
     "name": "stdout",
     "output_type": "stream",
     "text": [
      "##########\n",
      "##########\n",
      "##########\n",
      "##########\n",
      "##########\n"
     ]
    }
   ],
   "source": [
    "# Copy here code of line function from previous exercise\n",
    "def line(size, character):\n",
    "\n",
    "    if character == \"\":\n",
    "\n",
    "        character = \"*\"\n",
    "\n",
    "    print(character[0] * size)\n",
    "\n",
    "def box_of_hashes(height):\n",
    "    # You should call function line here with proper parameters\n",
    "    #for i in range height\n",
    "    for i in range(height):\n",
    "        line(10, \"#\")\n",
    "\n",
    "\n",
    "\n",
    "# You can test your function by calling it within the following block\n",
    "if __name__ == \"__main__\":\n",
    "    box_of_hashes(5)\n",
    "\n"
   ],
   "metadata": {
    "collapsed": false,
    "pycharm": {
     "name": "#%%\n"
    }
   }
  },
  {
   "cell_type": "code",
   "execution_count": 62,
   "outputs": [
    {
     "name": "stdout",
     "output_type": "stream",
     "text": [
      "##########\n",
      "##########\n",
      "##########\n",
      "##########\n",
      "##########\n",
      "\n",
      "##########\n",
      "##########\n"
     ]
    }
   ],
   "source": [
    "box_of_hashes(5)\n",
    "print()\n",
    "box_of_hashes(2)"
   ],
   "metadata": {
    "collapsed": false,
    "pycharm": {
     "name": "#%%\n"
    }
   }
  },
  {
   "cell_type": "code",
   "execution_count": 62,
   "outputs": [],
   "source": [],
   "metadata": {
    "collapsed": false,
    "pycharm": {
     "name": "#%%\n"
    }
   }
  },
  {
   "cell_type": "code",
   "execution_count": 63,
   "outputs": [
    {
     "name": "stdout",
     "output_type": "stream",
     "text": [
      "#####\n",
      "#####\n",
      "#####\n",
      "#####\n",
      "#####\n"
     ]
    }
   ],
   "source": [
    "# Copy here code of line function from previous exercise\n",
    "def line(size, character):\n",
    "\n",
    "    if character == \"\":\n",
    "\n",
    "        character = \"*\"\n",
    "\n",
    "    print(character[0] * size)\n",
    "\n",
    "def square_of_hashes(height):\n",
    "    # You should call function line here with proper parameters\n",
    "    #for i in range height\n",
    "    for i in range(height):\n",
    "        line(height, \"#\")\n",
    "\n",
    "\n",
    "\n",
    "# You can test your function by calling it within the following block\n",
    "if __name__ == \"__main__\":\n",
    "    square_of_hashes(5)\n"
   ],
   "metadata": {
    "collapsed": false,
    "pycharm": {
     "name": "#%%\n"
    }
   }
  },
  {
   "cell_type": "code",
   "execution_count": 64,
   "outputs": [
    {
     "name": "stdout",
     "output_type": "stream",
     "text": [
      "#####\n",
      "#####\n",
      "#####\n",
      "#####\n",
      "#####\n",
      "\n",
      "###\n",
      "###\n",
      "###\n"
     ]
    }
   ],
   "source": [
    "square_of_hashes(5)\n",
    "print()\n",
    "square_of_hashes(3)"
   ],
   "metadata": {
    "collapsed": false,
    "pycharm": {
     "name": "#%%\n"
    }
   }
  },
  {
   "cell_type": "code",
   "execution_count": 68,
   "outputs": [
    {
     "name": "stdout",
     "output_type": "stream",
     "text": [
      "\n",
      "#\n",
      "##\n",
      "###\n",
      "####\n",
      "#####\n"
     ]
    }
   ],
   "source": [
    "# Copy here code of line function from previous exercise\n",
    "def line(size, character):\n",
    "\n",
    "    if character == \"\":\n",
    "\n",
    "        character = \"*\"\n",
    "\n",
    "    print(character[0] * size)\n",
    "\n",
    "def triangle(size):\n",
    "    # You should call function line here with proper parameters\n",
    "    for i in range(size+1):\n",
    "        line(i, \"#\")\n",
    "\n",
    "# You can test your function by calling it within the following block\n",
    "if __name__ == \"__main__\":\n",
    "    triangle(5)"
   ],
   "metadata": {
    "collapsed": false,
    "pycharm": {
     "name": "#%%\n"
    }
   }
  },
  {
   "cell_type": "code",
   "execution_count": 78,
   "outputs": [
    {
     "name": "stdout",
     "output_type": "stream",
     "text": [
      "\n",
      "x\n",
      "xx\n",
      "xxx\n",
      "xxxx\n",
      "xxxxx\n",
      "ooooo\n",
      "ooooo\n"
     ]
    }
   ],
   "source": [
    "# Copy here code of line function from previous exercise and use it in your solution\n",
    "def line(size, character):\n",
    "\n",
    "    if character == \"\":\n",
    "\n",
    "        character = \"*\"\n",
    "\n",
    "    print(character[0] * size)\n",
    "\n",
    "def shape(height, char, height2, char2):\n",
    "    for i in range(height+1):\n",
    "        line(i, char)\n",
    "    for i in range(height2):\n",
    "        line(height, char2)\n",
    "\n",
    "\n",
    "# You can test your function by calling it within the following block\n",
    "if __name__ == \"__main__\":\n",
    "    shape(5, \"x\", 2, \"o\")"
   ],
   "metadata": {
    "collapsed": false,
    "pycharm": {
     "name": "#%%\n"
    }
   }
  },
  {
   "cell_type": "code",
   "execution_count": 79,
   "outputs": [
    {
     "name": "stdout",
     "output_type": "stream",
     "text": [
      "\n",
      "X\n",
      "XX\n",
      "XXX\n",
      "XXXX\n",
      "XXXXX\n",
      "*****\n",
      "*****\n",
      "*****\n",
      "\n",
      "\n",
      "o\n",
      "oo\n",
      "++\n",
      "++\n",
      "++\n",
      "++\n",
      "\n",
      "\n",
      ".\n",
      "..\n",
      "...\n"
     ]
    }
   ],
   "source": [
    "shape(5, \"X\", 3, \"*\")\n",
    "print()\n",
    "shape(2, \"o\", 4, \"+\")\n",
    "print()\n",
    "shape(3, \".\", 0, \",\")"
   ],
   "metadata": {
    "collapsed": false,
    "pycharm": {
     "name": "#%%\n"
    }
   }
  },
  {
   "cell_type": "code",
   "execution_count": 81,
   "outputs": [],
   "source": [
    "def greatest_number(a,b,c):\n",
    "    if a >= b and a >= c:\n",
    "        return a\n",
    "    elif b >= a and b >= c:\n",
    "        return b\n",
    "    elif c >= a and c >= b:\n",
    "        return c\n",
    "    "
   ],
   "metadata": {
    "collapsed": false,
    "pycharm": {
     "name": "#%%\n"
    }
   }
  },
  {
   "cell_type": "code",
   "execution_count": 2,
   "outputs": [],
   "source": [
    "#same characters\n",
    "\n",
    "def same_chars(text, ch1, ch2):\n",
    "    if text[ch1] == text[ch2]:\n",
    "        return True\n",
    "    return False"
   ],
   "metadata": {
    "collapsed": false,
    "pycharm": {
     "name": "#%%\n"
    }
   }
  },
  {
   "cell_type": "code",
   "execution_count": 3,
   "outputs": [
    {
     "ename": "IndexError",
     "evalue": "string index out of range",
     "output_type": "error",
     "traceback": [
      "\u001B[1;31m---------------------------------------------------------------------------\u001B[0m",
      "\u001B[1;31mIndexError\u001B[0m                                Traceback (most recent call last)",
      "Input \u001B[1;32mIn [3]\u001B[0m, in \u001B[0;36m<module>\u001B[1;34m\u001B[0m\n\u001B[1;32m----> 1\u001B[0m \u001B[43msame_chars\u001B[49m\u001B[43m(\u001B[49m\u001B[38;5;124;43m\"\u001B[39;49m\u001B[38;5;124;43mcoder\u001B[39;49m\u001B[38;5;124;43m\"\u001B[39;49m\u001B[43m,\u001B[49m\u001B[43m \u001B[49m\u001B[38;5;241;43m1\u001B[39;49m\u001B[43m,\u001B[49m\u001B[43m \u001B[49m\u001B[38;5;241;43m10\u001B[39;49m\u001B[43m)\u001B[49m\n",
      "Input \u001B[1;32mIn [2]\u001B[0m, in \u001B[0;36msame_chars\u001B[1;34m(text, ch1, ch2)\u001B[0m\n\u001B[0;32m      3\u001B[0m \u001B[38;5;28;01mdef\u001B[39;00m \u001B[38;5;21msame_chars\u001B[39m(text, ch1, ch2):\n\u001B[1;32m----> 4\u001B[0m     \u001B[38;5;28;01mif\u001B[39;00m text[ch1] \u001B[38;5;241m==\u001B[39m \u001B[43mtext\u001B[49m\u001B[43m[\u001B[49m\u001B[43mch2\u001B[49m\u001B[43m]\u001B[49m:\n\u001B[0;32m      5\u001B[0m         \u001B[38;5;28;01mreturn\u001B[39;00m \u001B[38;5;28;01mTrue\u001B[39;00m\n\u001B[0;32m      6\u001B[0m     \u001B[38;5;28;01mreturn\u001B[39;00m \u001B[38;5;28;01mFalse\u001B[39;00m\n",
      "\u001B[1;31mIndexError\u001B[0m: string index out of range"
     ]
    }
   ],
   "source": [
    "same_chars(\"coder\", 1, 10)"
   ],
   "metadata": {
    "collapsed": false,
    "pycharm": {
     "name": "#%%\n"
    }
   }
  },
  {
   "cell_type": "code",
   "execution_count": 6,
   "outputs": [],
   "source": [
    "def same_chars(text, ch1, ch2):\n",
    "    if ch2 > len(text):\n",
    "        return False\n",
    "    elif text[ch1] == text[ch2]:\n",
    "        return True\n",
    "    else:\n",
    "        return False"
   ],
   "metadata": {
    "collapsed": false,
    "pycharm": {
     "name": "#%%\n"
    }
   }
  },
  {
   "cell_type": "code",
   "execution_count": 7,
   "outputs": [
    {
     "data": {
      "text/plain": "False"
     },
     "execution_count": 7,
     "metadata": {},
     "output_type": "execute_result"
    }
   ],
   "source": [
    "same_chars(\"coder\", 1, 10)"
   ],
   "metadata": {
    "collapsed": false,
    "pycharm": {
     "name": "#%%\n"
    }
   }
  },
  {
   "cell_type": "code",
   "execution_count": 8,
   "outputs": [],
   "source": [
    "sentence = \"it was a dark and stormy python\""
   ],
   "metadata": {
    "collapsed": false,
    "pycharm": {
     "name": "#%%\n"
    }
   }
  },
  {
   "cell_type": "code",
   "execution_count": 9,
   "outputs": [],
   "source": [
    "split = sentence.split()"
   ],
   "metadata": {
    "collapsed": false,
    "pycharm": {
     "name": "#%%\n"
    }
   }
  },
  {
   "cell_type": "code",
   "execution_count": 10,
   "outputs": [
    {
     "data": {
      "text/plain": "['it', 'was', 'a', 'dark', 'and', 'stormy', 'python']"
     },
     "execution_count": 10,
     "metadata": {},
     "output_type": "execute_result"
    }
   ],
   "source": [
    "split"
   ],
   "metadata": {
    "collapsed": false,
    "pycharm": {
     "name": "#%%\n"
    }
   }
  },
  {
   "cell_type": "markdown",
   "source": [],
   "metadata": {
    "collapsed": false
   }
  },
  {
   "cell_type": "code",
   "execution_count": 12,
   "outputs": [],
   "source": [
    "sentence = \"it was a dark and stormy python\"\n",
    "def first_word(sentence):\n",
    "    sentencesplitted = sentence.split()\n",
    "    return sentencesplitted[0]\n",
    "def second_word(sentence):\n",
    "    sentencesplitted = sentence.split()\n",
    "    return sentencesplitted[1]\n",
    "def last_word(sentence):\n",
    "    sentencesplitted = sentence.split()\n",
    "    return sentencesplitted[-1]"
   ],
   "metadata": {
    "collapsed": false,
    "pycharm": {
     "name": "#%%\n"
    }
   }
  },
  {
   "cell_type": "code",
   "execution_count": 13,
   "outputs": [
    {
     "name": "stdout",
     "output_type": "stream",
     "text": [
      "it\n",
      "was\n",
      "python\n"
     ]
    }
   ],
   "source": [
    "print(first_word(sentence)) # it\n",
    "print(second_word(sentence)) # was\n",
    "print(last_word(sentence)) # python"
   ],
   "metadata": {
    "collapsed": false,
    "pycharm": {
     "name": "#%%\n"
    }
   }
  },
  {
   "cell_type": "code",
   "execution_count": 19,
   "outputs": [],
   "source": [
    "#change the value of an item\n",
    "\n",
    "list = [1,2,3,4,5]\n",
    "while True:\n",
    "    inp = int(input(\"Index:\"))\n",
    "    if inp == -1:\n",
    "        break\n",
    "    new = int(input(\"New value:\"))\n",
    "\n",
    "\n",
    "    list[inp] = new\n",
    "    print(list)"
   ],
   "metadata": {
    "collapsed": false,
    "pycharm": {
     "name": "#%%\n"
    }
   }
  },
  {
   "cell_type": "code",
   "execution_count": 21,
   "outputs": [
    {
     "name": "stdout",
     "output_type": "stream",
     "text": [
      "[10, 250, 340]\n"
     ]
    }
   ],
   "source": [
    "list = []\n",
    "inp = int(input(\"How many items:\"))\n",
    "counter = 0\n",
    "while counter < inp:\n",
    "    counter +=1\n",
    "    item = int(input(f\"Item {counter}\"))\n",
    "    list.append(item)\n",
    "\n",
    "print(list)"
   ],
   "metadata": {
    "collapsed": false,
    "pycharm": {
     "name": "#%%\n"
    }
   }
  },
  {
   "cell_type": "code",
   "execution_count": 27,
   "outputs": [
    {
     "name": "stdout",
     "output_type": "stream",
     "text": [
      "The list is now []\n",
      "The list is now [1]\n",
      "The list is now [1, 2]\n",
      "The list is now [1, 2, 3]\n",
      "The list is now [1, 2, 3, 4]\n",
      "The list is now [1, 2, 3, 4, 5]\n",
      "The list is now [1, 2, 3, 4]\n",
      "The list is now [1, 2, 3, 4, 6]\n",
      "Bye!\n"
     ]
    }
   ],
   "source": [
    "#addition and removal\n",
    "list = []\n",
    "counter = 0\n",
    "while True:\n",
    "    print(f\"The list is now {list}\")\n",
    "    action = input(\"a(d)d, (r)emove or e(x)it:\")\n",
    "    if action == \"d\":\n",
    "        counter +=1\n",
    "        list.append(counter)\n",
    "    if action == \"x\":\n",
    "        print(\"Bye!\")\n",
    "        break\n",
    "    if action == \"r\":\n",
    "        counter -=1\n",
    "        list.remove(len(list))"
   ],
   "metadata": {
    "collapsed": false,
    "pycharm": {
     "name": "#%%\n"
    }
   }
  },
  {
   "cell_type": "code",
   "execution_count": 4,
   "outputs": [
    {
     "name": "stdout",
     "output_type": "stream",
     "text": [
      "You typed in 2 different words\n"
     ]
    }
   ],
   "source": [
    "list = []\n",
    "while True:\n",
    "    w = input(\"Word:\")\n",
    "    if w not in list:\n",
    "        list.append(w)\n",
    "    else:\n",
    "        print(f\"You typed in {len(list)} different words\")\n",
    "        break"
   ],
   "metadata": {
    "collapsed": false,
    "pycharm": {
     "name": "#%%\n"
    }
   }
  },
  {
   "cell_type": "code",
   "execution_count": 7,
   "outputs": [
    {
     "name": "stdout",
     "output_type": "stream",
     "text": [
      "The list now: [3]\n",
      "The list in order: [3]\n",
      "The list now: [3, 1]\n",
      "The list in order: [1, 3]\n",
      "The list now: [3, 1, 9]\n",
      "The list in order: [1, 3, 9]\n",
      "The list now: [3, 1, 9, 5]\n",
      "The list in order: [1, 3, 5, 9]\n",
      "Bye\n"
     ]
    }
   ],
   "source": [
    "list = []\n",
    "while True:\n",
    "    item = int(input(\"New item:\"))\n",
    "    if item != 0:\n",
    "        list.append(item)\n",
    "    else:\n",
    "        print(\"Bye!\")\n",
    "        break\n",
    "    in_order = sorted(list)\n",
    "    print(f\"The list now: {list}\")\n",
    "    print(f\"The list in order: {in_order}\")\n"
   ],
   "metadata": {
    "collapsed": false,
    "pycharm": {
     "name": "#%%\n"
    }
   }
  },
  {
   "cell_type": "code",
   "execution_count": 3,
   "outputs": [
    {
     "name": "stdout",
     "output_type": "stream",
     "text": [
      "P\n",
      "*\n",
      "y\n",
      "*\n",
      "t\n",
      "*\n",
      "h\n",
      "*\n",
      "o\n",
      "*\n",
      "n\n",
      "*\n"
     ]
    }
   ],
   "source": [
    "#Star-studded\n",
    "text = input(\"Please type in a string:\")\n",
    "\n",
    "for i in text:\n",
    "    print(i)\n",
    "    print(\"*\")"
   ],
   "metadata": {
    "collapsed": false,
    "pycharm": {
     "name": "#%%\n"
    }
   }
  },
  {
   "cell_type": "code",
   "execution_count": 5,
   "outputs": [
    {
     "name": "stdout",
     "output_type": "stream",
     "text": [
      "-5\n",
      "-4\n",
      "-3\n",
      "-2\n",
      "-1\n",
      "1\n",
      "2\n",
      "3\n",
      "4\n",
      "5\n"
     ]
    }
   ],
   "source": [
    "integer = int(input(\"Please type in a positive integer\"))\n",
    "\n",
    "\n",
    "for i in range(-integer, integer +1):\n",
    "    if i == 0:\n",
    "        continue\n",
    "    print(i)"
   ],
   "metadata": {
    "collapsed": false,
    "pycharm": {
     "name": "#%%\n"
    }
   }
  },
  {
   "cell_type": "code",
   "execution_count": 6,
   "outputs": [
    {
     "name": "stdout",
     "output_type": "stream",
     "text": [
      "*\n",
      "**\n",
      "***\n",
      "****\n",
      "*****\n",
      "******\n",
      "*******\n",
      "********\n",
      "*********\n",
      "**********\n"
     ]
    }
   ],
   "source": [
    "#list of stars\n",
    "\n",
    "def list_of_stars(list):\n",
    "    for i in list:\n",
    "        print(i*\"*\")\n",
    "\n",
    "list = [1,2,3,4,5,6,7,8,9,10]\n",
    "\n",
    "list_of_stars(list)"
   ],
   "metadata": {
    "collapsed": false,
    "pycharm": {
     "name": "#%%\n"
    }
   }
  },
  {
   "cell_type": "code",
   "execution_count": 19,
   "outputs": [
    {
     "name": "stdout",
     "output_type": "stream",
     "text": [
      "True\n",
      "True\n",
      "True\n",
      "False\n",
      "False\n"
     ]
    }
   ],
   "source": [
    "#anagrams\n",
    "\n",
    "def anagrams(s1, s2):\n",
    "    sl1 = [c for c in s1]\n",
    "    sl2 = [c for c in s2]\n",
    "    sorted1 = sorted(sl1)\n",
    "    sorted2 = sorted(sl2)\n",
    "    if sorted1 == sorted2:\n",
    "        return True\n",
    "    return False\n",
    "\n",
    "print(anagrams(\"tame\", \"meta\"))\n",
    "print(anagrams(\"tame\", \"mate\"))\n",
    "print(anagrams(\"tame\", \"team\"))\n",
    "print(anagrams(\"tabby\", \"batty\"))\n",
    "print(anagrams(\"python\", \"java\"))"
   ],
   "metadata": {
    "collapsed": false,
    "pycharm": {
     "name": "#%%\n"
    }
   }
  },
  {
   "cell_type": "code",
   "execution_count": 55,
   "outputs": [
    {
     "name": "stdout",
     "output_type": "stream",
     "text": [
      "The result is 9\n"
     ]
    }
   ],
   "source": [
    "# the sum of positive numbers\n",
    "\n",
    "\n",
    "\n",
    "def sum_of_positives(list):\n",
    "    sum = 0\n",
    "    for i in list:\n",
    "        if i >= 0:\n",
    "            sum +=i\n",
    "    return sum\n",
    "\n",
    "my_list = [1, -2, 3, -4, 5]\n",
    "result = sum_of_positives(my_list)\n",
    "print(\"The result is\", result)"
   ],
   "metadata": {
    "collapsed": false,
    "pycharm": {
     "name": "#%%\n"
    }
   }
  },
  {
   "cell_type": "code",
   "execution_count": 58,
   "outputs": [
    {
     "name": "stdout",
     "output_type": "stream",
     "text": [
      "original [1, 2, 3, 4, 5]\n",
      "new [2, 4]\n"
     ]
    }
   ],
   "source": [
    "#Even numbers\n",
    "\n",
    "def even_numbers(list):\n",
    "    secondlist = []\n",
    "    for i in list:\n",
    "        if i % 2 == 0:\n",
    "            secondlist.append(i)\n",
    "    return secondlist\n",
    "\n",
    "my_list = [1, 2, 3, 4, 5]\n",
    "new_list = even_numbers(my_list)\n",
    "print(\"original\", my_list)\n",
    "print(\"new\", new_list)\n",
    "\n"
   ],
   "metadata": {
    "collapsed": false,
    "pycharm": {
     "name": "#%%\n"
    }
   }
  },
  {
   "cell_type": "code",
   "execution_count": 70,
   "outputs": [
    {
     "name": "stdout",
     "output_type": "stream",
     "text": [
      "2\n",
      "3\n"
     ]
    },
    {
     "ename": "IndexError",
     "evalue": "list index out of range",
     "output_type": "error",
     "traceback": [
      "\u001B[1;31m---------------------------------------------------------------------------\u001B[0m",
      "\u001B[1;31mIndexError\u001B[0m                                Traceback (most recent call last)",
      "Input \u001B[1;32mIn [70]\u001B[0m, in \u001B[0;36m<module>\u001B[1;34m\u001B[0m\n\u001B[0;32m      9\u001B[0m a \u001B[38;5;241m=\u001B[39m [\u001B[38;5;241m1\u001B[39m, \u001B[38;5;241m2\u001B[39m, \u001B[38;5;241m3\u001B[39m]\n\u001B[0;32m     10\u001B[0m b \u001B[38;5;241m=\u001B[39m [\u001B[38;5;241m7\u001B[39m, \u001B[38;5;241m8\u001B[39m, \u001B[38;5;241m9\u001B[39m]\n\u001B[1;32m---> 11\u001B[0m \u001B[38;5;28mprint\u001B[39m(\u001B[43mlist_sum\u001B[49m\u001B[43m(\u001B[49m\u001B[43ma\u001B[49m\u001B[43m,\u001B[49m\u001B[43m \u001B[49m\u001B[43mb\u001B[49m\u001B[43m)\u001B[49m)\n",
      "Input \u001B[1;32mIn [70]\u001B[0m, in \u001B[0;36mlist_sum\u001B[1;34m(a, b)\u001B[0m\n\u001B[0;32m      2\u001B[0m new_list \u001B[38;5;241m=\u001B[39m []\n\u001B[0;32m      3\u001B[0m \u001B[38;5;28;01mfor\u001B[39;00m i \u001B[38;5;129;01min\u001B[39;00m a:\n\u001B[1;32m----> 4\u001B[0m     \u001B[38;5;28mprint\u001B[39m(\u001B[43ma\u001B[49m\u001B[43m[\u001B[49m\u001B[43mi\u001B[49m\u001B[43m]\u001B[49m)\n\u001B[0;32m      5\u001B[0m \u001B[38;5;28;01mfor\u001B[39;00m j \u001B[38;5;129;01min\u001B[39;00m b:\n\u001B[0;32m      6\u001B[0m     \u001B[38;5;28mprint\u001B[39m(b[j])\n",
      "\u001B[1;31mIndexError\u001B[0m: list index out of range"
     ]
    }
   ],
   "source": [
    "def list_sum(a,b):\n",
    "    new_list = []\n",
    "    for i in a:\n",
    "    for j in b:\n",
    "\n",
    "\n",
    "a = [1, 2, 3]\n",
    "b = [7, 8, 9]\n",
    "print(list_sum(a, b)) # [8, 10, 12]"
   ],
   "metadata": {
    "collapsed": false,
    "pycharm": {
     "name": "#%%\n"
    }
   }
  },
  {
   "cell_type": "code",
   "execution_count": 72,
   "outputs": [
    {
     "name": "stdout",
     "output_type": "stream",
     "text": [
      "8\n",
      "7\n"
     ]
    }
   ],
   "source": [
    "#The lenght of longest in the list\n",
    "\n",
    "\n",
    "def length_of_longest(my_list):\n",
    "    longest = 0\n",
    "    for i in my_list:\n",
    "        if len(i) > 0:\n",
    "            longest = len(i)\n",
    "\n",
    "    return longest\n",
    "\n",
    "my_list = [\"first\", \"second\", \"fourth\", \"eleventh\"]\n",
    "\n",
    "result = length_of_longest(my_list)\n",
    "print(result)\n",
    "my_list = [\"adele\", \"mark\", \"dorothy\", \"tim\", \"hedy\", \"richard\"]\n",
    "\n",
    "result = length_of_longest(my_list)\n",
    "print(result)\n",
    "\n"
   ],
   "metadata": {
    "collapsed": false,
    "pycharm": {
     "name": "#%%\n"
    }
   }
  },
  {
   "cell_type": "code",
   "execution_count": 77,
   "outputs": [
    {
     "name": "stdout",
     "output_type": "stream",
     "text": [
      "['erom eno', 'elpmaxe', 'ereht', 'iH']\n"
     ]
    }
   ],
   "source": [
    "# everything reversed\n",
    "\n",
    "\n",
    "def everything_reversed(list):\n",
    "    list2 = []\n",
    "    for i in reversed(list):\n",
    "        list2.append(i[::-1])\n",
    "    return list2\n",
    "\n",
    "my_list = [\"Hi\", \"there\", \"example\", \"one more\"]\n",
    "new_list = everything_reversed(my_list)\n",
    "print(new_list)\n",
    "\n"
   ],
   "metadata": {
    "collapsed": false,
    "pycharm": {
     "name": "#%%\n"
    }
   }
  },
  {
   "cell_type": "code",
   "execution_count": 109,
   "outputs": [],
   "source": [
    "def most_common_characters(s):\n",
    "    biggest = \"\"\n",
    "    index = 0\n",
    "    counter = 0\n",
    "    for i in s:\n",
    "        #string = list(s)\n",
    "        #print(string)\n",
    "        max = s.count(i)\n",
    "        print(max)\n",
    "        if max > counter:\n",
    "            counter = max\n",
    "    #return string[max]\n"
   ],
   "metadata": {
    "collapsed": false,
    "pycharm": {
     "name": "#%%\n"
    }
   }
  },
  {
   "cell_type": "code",
   "execution_count": 154,
   "outputs": [],
   "source": [
    "def most_common_character(s):\n",
    "    counter = 0\n",
    "    index = 0\n",
    "    for i in s:\n",
    "        print(i)\n",
    "        count = s.count(i)\n",
    "        print(count)\n",
    "        if count > counter:\n",
    "            counter = count\n",
    "        index +=1\n",
    "    print(f\"index = {index}\")\n",
    "    return s[index]\n"
   ],
   "metadata": {
    "collapsed": false,
    "pycharm": {
     "name": "#%%\n"
    }
   }
  },
  {
   "cell_type": "code",
   "execution_count": 154,
   "outputs": [],
   "source": [],
   "metadata": {
    "collapsed": false,
    "pycharm": {
     "name": "#%%\n"
    }
   }
  },
  {
   "cell_type": "code",
   "execution_count": 155,
   "outputs": [
    {
     "name": "stdout",
     "output_type": "stream",
     "text": [
      "a\n",
      "2\n",
      "a\n",
      "2\n",
      "b\n",
      "4\n",
      "b\n",
      "4\n",
      "b\n",
      "4\n",
      "b\n",
      "4\n",
      "c\n",
      "1\n",
      "index = 7\n"
     ]
    },
    {
     "ename": "IndexError",
     "evalue": "string index out of range",
     "output_type": "error",
     "traceback": [
      "\u001B[1;31m---------------------------------------------------------------------------\u001B[0m",
      "\u001B[1;31mIndexError\u001B[0m                                Traceback (most recent call last)",
      "Input \u001B[1;32mIn [155]\u001B[0m, in \u001B[0;36m<module>\u001B[1;34m\u001B[0m\n\u001B[1;32m----> 1\u001B[0m \u001B[43mmost_common_character\u001B[49m\u001B[43m(\u001B[49m\u001B[38;5;124;43m\"\u001B[39;49m\u001B[38;5;124;43maabbbbc\u001B[39;49m\u001B[38;5;124;43m\"\u001B[39;49m\u001B[43m)\u001B[49m\n",
      "Input \u001B[1;32mIn [154]\u001B[0m, in \u001B[0;36mmost_common_character\u001B[1;34m(s)\u001B[0m\n\u001B[0;32m     10\u001B[0m     index \u001B[38;5;241m+\u001B[39m\u001B[38;5;241m=\u001B[39m\u001B[38;5;241m1\u001B[39m\n\u001B[0;32m     11\u001B[0m \u001B[38;5;28mprint\u001B[39m(\u001B[38;5;124mf\u001B[39m\u001B[38;5;124m\"\u001B[39m\u001B[38;5;124mindex = \u001B[39m\u001B[38;5;132;01m{\u001B[39;00mindex\u001B[38;5;132;01m}\u001B[39;00m\u001B[38;5;124m\"\u001B[39m)\n\u001B[1;32m---> 12\u001B[0m \u001B[38;5;28;01mreturn\u001B[39;00m \u001B[43ms\u001B[49m\u001B[43m[\u001B[49m\u001B[43mindex\u001B[49m\u001B[43m]\u001B[49m\n",
      "\u001B[1;31mIndexError\u001B[0m: string index out of range"
     ]
    }
   ],
   "source": [
    "most_common_character(\"aabbbbc\")"
   ],
   "metadata": {
    "collapsed": false,
    "pycharm": {
     "name": "#%%\n"
    }
   }
  },
  {
   "cell_type": "code",
   "execution_count": 180,
   "outputs": [],
   "source": [
    "#the longest string\n",
    "\n",
    "def longest(s):\n",
    "    longeststring = \"\"\n",
    "    longest = 0\n",
    "    for e in s:\n",
    "        next = len(e)\n",
    "        if len(e) > longest:\n",
    "            longest = next\n",
    "            longeststring = e\n",
    "    return longeststring\n",
    "\n"
   ],
   "metadata": {
    "collapsed": false,
    "pycharm": {
     "name": "#%%\n"
    }
   }
  },
  {
   "cell_type": "code",
   "execution_count": 181,
   "outputs": [
    {
     "name": "stdout",
     "output_type": "stream",
     "text": [
      "howdydoody\n"
     ]
    }
   ],
   "source": [
    "strings = [\"hi\", \"hiya\", \"hello\", \"howdydoody\", \"hi there\"]\n",
    "print(longest(strings))"
   ],
   "metadata": {
    "collapsed": false,
    "pycharm": {
     "name": "#%%\n"
    }
   }
  },
  {
   "cell_type": "code",
   "execution_count": 3,
   "outputs": [
    {
     "name": "stdout",
     "output_type": "stream",
     "text": [
      "3\n",
      "{'apina': 'monkey', 'banaani': 'banana', 'cembalo': 'harpsichord'}\n",
      "monkey\n"
     ]
    }
   ],
   "source": [
    "my_dictionary = {}\n",
    "\n",
    "my_dictionary[\"apina\"] = \"monkey\"\n",
    "my_dictionary[\"banaani\"] = \"banana\"\n",
    "my_dictionary[\"cembalo\"] = \"harpsichord\"\n",
    "\n",
    "print(len(my_dictionary))\n",
    "print(my_dictionary)\n",
    "print(my_dictionary[\"apina\"])"
   ],
   "metadata": {
    "collapsed": false,
    "pycharm": {
     "name": "#%%\n"
    }
   }
  },
  {
   "cell_type": "code",
   "execution_count": 5,
   "outputs": [
    {
     "name": "stdout",
     "output_type": "stream",
     "text": [
      "Translation:  monkey\n"
     ]
    }
   ],
   "source": [
    "# translation in dictionary\n",
    "\n",
    "word = input(\"Please type in a word: \")\n",
    "if word in my_dictionary:\n",
    "    print(\"Translation: \", my_dictionary[word])\n",
    "else:\n",
    "    print(\"Word not found\")"
   ],
   "metadata": {
    "collapsed": false,
    "pycharm": {
     "name": "#%%\n"
    }
   }
  },
  {
   "cell_type": "code",
   "execution_count": 8,
   "outputs": [
    {
     "name": "stdout",
     "output_type": "stream",
     "text": [
      "{3: 30, 4: 40, 5: 50, 6: 60}\n"
     ]
    }
   ],
   "source": [
    "#times ten\n",
    "\n",
    "def times_ten(start_index: int, end_index: int):\n",
    "    dict = {}\n",
    "    for i in range(start_index,end_index+1):\n",
    "        dict[i] = i*10\n",
    "    return dict\n",
    "\n",
    "d = times_ten(3, 6)\n",
    "print(d)"
   ],
   "metadata": {
    "collapsed": false,
    "pycharm": {
     "name": "#%%\n"
    }
   }
  },
  {
   "cell_type": "code",
   "execution_count": 269,
   "outputs": [
    {
     "name": "stdout",
     "output_type": "stream",
     "text": [
      "1\n",
      "6\n",
      "120\n"
     ]
    }
   ],
   "source": [
    "# factorials\n",
    "\n",
    "def factorials(n: int):\n",
    "    dict = {}\n",
    "    fact = 1\n",
    "    for i in range(1,n+1):\n",
    "            fact *= i\n",
    "            dict[i] = fact\n",
    "    return dict\n",
    "\n",
    "k = factorials(5)\n",
    "print(k[1])\n",
    "print(k[3])\n",
    "print(k[5])"
   ],
   "metadata": {
    "collapsed": false,
    "pycharm": {
     "name": "#%%\n"
    }
   }
  },
  {
   "cell_type": "code",
   "execution_count": 270,
   "outputs": [
    {
     "name": "stdout",
     "output_type": "stream",
     "text": [
      "{1: 1, 2: 2, 3: 6, 4: 24, 5: 120}\n"
     ]
    }
   ],
   "source": [
    "print(k)"
   ],
   "metadata": {
    "collapsed": false,
    "pycharm": {
     "name": "#%%\n"
    }
   }
  },
  {
   "cell_type": "code",
   "execution_count": 277,
   "outputs": [],
   "source": [
    "word_list = [\n",
    "  \"banana\", \"milk\", \"beer\", \"cheese\", \"sourmilk\", \"juice\", \"sausage\",\n",
    "  \"tomato\", \"cucumber\", \"butter\", \"margarine\", \"cheese\", \"sausage\",\n",
    "  \"beer\", \"sourmilk\", \"sourmilk\", \"butter\", \"beer\", \"chocolate\", \"cheese\", \"condoms\"\n",
    "]"
   ],
   "metadata": {
    "collapsed": false,
    "pycharm": {
     "name": "#%%\n"
    }
   }
  },
  {
   "cell_type": "code",
   "execution_count": 278,
   "outputs": [
    {
     "name": "stdout",
     "output_type": "stream",
     "text": [
      "{'banana': 1, 'milk': 1, 'beer': 3, 'cheese': 3, 'sourmilk': 3, 'juice': 1, 'sausage': 2, 'tomato': 1, 'cucumber': 1, 'butter': 2, 'margarine': 1, 'chocolate': 1, 'condoms': 1}\n"
     ]
    }
   ],
   "source": [
    "def counts(my_list):\n",
    "    words = {}\n",
    "    for word in my_list:\n",
    "        if word not in words:\n",
    "            words[word] = 0\n",
    "        words[word] +=1\n",
    "    return words\n",
    "print(counts(word_list))"
   ],
   "metadata": {
    "collapsed": false,
    "pycharm": {
     "name": "#%%\n"
    }
   }
  },
  {
   "cell_type": "code",
   "execution_count": 283,
   "outputs": [
    {
     "name": "stdout",
     "output_type": "stream",
     "text": [
      "b\n",
      "m\n",
      "b\n",
      "c\n",
      "s\n",
      "j\n",
      "s\n",
      "t\n",
      "c\n",
      "b\n",
      "m\n",
      "c\n",
      "s\n",
      "b\n",
      "s\n",
      "s\n",
      "b\n",
      "b\n",
      "c\n",
      "c\n",
      "c\n"
     ]
    }
   ],
   "source": [
    "def categorize_by_initial(my_list):\n",
    "    groups = {}\n",
    "    for word in my_list:\n",
    "        initial = word[0]\n",
    "        if initial not in groups:\n",
    "            groups[initial] = []\n",
    "        groups[initial].append(word)\n",
    "    return groups\n",
    "\n",
    "groups = categorize_by_initial(word_list)\n",
    "\n",
    "for key, value in groups.items():\n",
    "    print(f\"words beginning with {key}:\")\n",
    "    for word in value:\n",
    "        print(word)"
   ],
   "metadata": {
    "collapsed": false,
    "pycharm": {
     "name": "#%%\n"
    }
   }
  },
  {
   "cell_type": "code",
   "execution_count": 12,
   "outputs": [
    {
     "name": "stdout",
     "output_type": "stream",
     "text": [
      "a **\n",
      "b **\n"
     ]
    }
   ],
   "source": [
    "# histogram\n",
    "def histogram(string):\n",
    "    histog = {}\n",
    "    for letter in string:\n",
    "        if letter.isalpha():\n",
    "            if letter in histog.keys():\n",
    "                histog[letter]+=1\n",
    "            else:\n",
    "                histog[letter] = 1\n",
    "    for letter in sorted(histog.keys()):\n",
    "        print(letter + \" \" + \"*\" * histog[letter])\n",
    "\n",
    "\n",
    "\n",
    "histogram(\"abba\")\n"
   ],
   "metadata": {
    "collapsed": false,
    "pycharm": {
     "name": "#%%\n"
    }
   }
  },
  {
   "cell_type": "code",
   "execution_count": 14,
   "outputs": [
    {
     "name": "stdout",
     "output_type": "stream",
     "text": [
      "a **\n",
      "b **\n"
     ]
    }
   ],
   "source": [
    "histogram(\"abba\")\n"
   ],
   "metadata": {
    "collapsed": false,
    "pycharm": {
     "name": "#%%\n"
    }
   }
  },
  {
   "cell_type": "code",
   "execution_count": 15,
   "outputs": [
    {
     "name": "stdout",
     "output_type": "stream",
     "text": [
      "None\n"
     ]
    }
   ],
   "source": [
    "print(d)"
   ],
   "metadata": {
    "collapsed": false,
    "pycharm": {
     "name": "#%%\n"
    }
   }
  },
  {
   "cell_type": "code",
   "execution_count": 67,
   "outputs": [
    {
     "name": "stdout",
     "output_type": "stream",
     "text": [
      "ok!\n",
      "ok!\n",
      "31\n",
      "no number\n",
      "ok!\n",
      "31\n",
      "666\n",
      "quitting...\n"
     ]
    }
   ],
   "source": [
    "dictionary = {}\n",
    "while True:\n",
    "    command = int(input(\"command (1 search, 2 add, 3 quit):\"))\n",
    "    if command == 2:\n",
    "        name = input(\"name:\")\n",
    "        number = input(\"number:\")\n",
    "        if name not in dictionary:\n",
    "            dictionary[name] = [number]\n",
    "        else:\n",
    "            dictionary[name].append(number)\n",
    "        print(\"ok!\")\n",
    "    elif command == 1:\n",
    "        name2 = input(\"name:\")\n",
    "        if name2 in dictionary:\n",
    "            for key, value in dictionary.items():\n",
    "                if key == name2:\n",
    "                    for nr in value:\n",
    "                        print(nr)\n",
    "        else:\n",
    "            print(\"no number\")\n",
    "    elif command == 3:\n",
    "        print(\"quitting...\")\n",
    "        break\n"
   ],
   "metadata": {
    "collapsed": false,
    "pycharm": {
     "name": "#%%\n"
    }
   }
  },
  {
   "cell_type": "code",
   "execution_count": 62,
   "outputs": [
    {
     "name": "stdout",
     "output_type": "stream",
     "text": [
      "{'mike': ['34', '42'], 'peter': ['55']}\n"
     ]
    }
   ],
   "source": [
    "print(dictionary)\n",
    "name2 = \"mike\"\n",
    "key = name2"
   ],
   "metadata": {
    "collapsed": false,
    "pycharm": {
     "name": "#%%\n"
    }
   }
  },
  {
   "cell_type": "code",
   "execution_count": 65,
   "outputs": [
    {
     "name": "stdout",
     "output_type": "stream",
     "text": [
      "34\n",
      "42\n"
     ]
    }
   ],
   "source": [
    "for key, value in dictionary.items():\n",
    "    if key == name2:\n",
    "        for nr in value:\n",
    "            print(nr)\n"
   ],
   "metadata": {
    "collapsed": false,
    "pycharm": {
     "name": "#%%\n"
    }
   }
  },
  {
   "cell_type": "code",
   "execution_count": 64,
   "outputs": [
    {
     "name": "stdout",
     "output_type": "stream",
     "text": [
      "words beginning with mike:\n",
      "34\n",
      "42\n",
      "words beginning with peter:\n",
      "55\n"
     ]
    }
   ],
   "source": [
    "for key, value in dictionary.items():\n",
    "    print(f\"words beginning with {key}:\")\n",
    "    for word in value:\n",
    "        print(word)"
   ],
   "metadata": {
    "collapsed": false,
    "pycharm": {
     "name": "#%%\n"
    }
   }
  },
  {
   "cell_type": "code",
   "execution_count": 68,
   "outputs": [
    {
     "name": "stdout",
     "output_type": "stream",
     "text": [
      "Not a staff member\n"
     ]
    }
   ],
   "source": [
    "staff = {\"Alan\": \"lecturer\", \"Emily\": \"professor\", \"David\": \"lecturer\"}\n",
    "deleted = staff.pop(\"Paul\", None)\n",
    "if deleted == None:\n",
    "    print(\"Not a staff member\")\n",
    "else:\n",
    "    print(deleted, \"deleted\")"
   ],
   "metadata": {
    "collapsed": false,
    "pycharm": {
     "name": "#%%\n"
    }
   }
  },
  {
   "cell_type": "code",
   "execution_count": 72,
   "outputs": [],
   "source": [
    "def create_tuple(x: int, y: int, z: int):\n",
    "    if x < y and x < z:\n",
    "        a = x\n",
    "        if y > z:\n",
    "            b = y\n",
    "        else:\n",
    "            b = z\n",
    "    elif y < x and y < z:\n",
    "        a = y\n",
    "        if x > z:\n",
    "            b = x\n",
    "        else:\n",
    "            b = z\n",
    "    else:\n",
    "        a = z\n",
    "        if x > y:\n",
    "            b = x\n",
    "        else:\n",
    "            b = y\n",
    "    c = x + y + z\n",
    "    tuple = (a, b, c )\n",
    "    return tuple\n"
   ],
   "metadata": {
    "collapsed": false,
    "pycharm": {
     "name": "#%%\n"
    }
   }
  },
  {
   "cell_type": "code",
   "execution_count": 73,
   "outputs": [
    {
     "name": "stdout",
     "output_type": "stream",
     "text": [
      "(-1, 5, 7)\n"
     ]
    }
   ],
   "source": [
    "print(create_tuple(5, 3, -1))"
   ],
   "metadata": {
    "collapsed": false,
    "pycharm": {
     "name": "#%%\n"
    }
   }
  },
  {
   "cell_type": "code",
   "execution_count": 77,
   "outputs": [
    {
     "name": "stdout",
     "output_type": "stream",
     "text": [
      "('Adam', 1977)\n"
     ]
    }
   ],
   "source": [
    "p1 = (\"Adam\", 1977)\n",
    "p2 = (\"Ellen\", 1985)\n",
    "p3 = (\"Mary\", 1953)\n",
    "p4 = (\"Ernest\", 1997)\n",
    "people = [p1, p2, p3, p4]\n",
    "\n",
    "print(min(people))"
   ],
   "metadata": {
    "collapsed": false,
    "pycharm": {
     "name": "#%%\n"
    }
   }
  },
  {
   "cell_type": "code",
   "execution_count": 111,
   "outputs": [],
   "source": [
    "def older_people(people: list, year: int):\n",
    "    name = []\n",
    "    for i, v in people:\n",
    "        if v < year:\n",
    "            name.append(i)\n",
    "    return name"
   ],
   "metadata": {
    "collapsed": false,
    "pycharm": {
     "name": "#%%\n"
    }
   }
  },
  {
   "cell_type": "code",
   "execution_count": 112,
   "outputs": [
    {
     "name": "stdout",
     "output_type": "stream",
     "text": [
      "['Adam', 'Mary']\n"
     ]
    }
   ],
   "source": [
    "p1 = (\"Adam\", 1977)\n",
    "p2 = (\"Ellen\", 1985)\n",
    "p3 = (\"Mary\", 1953)\n",
    "p4 = (\"Ernest\", 1997)\n",
    "people = [p1, p2, p3, p4]\n",
    "\n",
    "older = older_people(people, 1979)\n",
    "print(older)"
   ],
   "metadata": {
    "collapsed": false,
    "pycharm": {
     "name": "#%%\n"
    }
   }
  },
  {
   "cell_type": "code",
   "execution_count": 113,
   "outputs": [
    {
     "ename": "TypeError",
     "evalue": "unhashable type: 'list'",
     "output_type": "error",
     "traceback": [
      "\u001B[1;31m---------------------------------------------------------------------------\u001B[0m",
      "\u001B[1;31mTypeError\u001B[0m                                 Traceback (most recent call last)",
      "Input \u001B[1;32mIn [113]\u001B[0m, in \u001B[0;36m<module>\u001B[1;34m\u001B[0m\n\u001B[0;32m      1\u001B[0m points \u001B[38;5;241m=\u001B[39m {}\n\u001B[1;32m----> 2\u001B[0m points[[\u001B[38;5;241m3\u001B[39m, \u001B[38;5;241m5\u001B[39m]] \u001B[38;5;241m=\u001B[39m \u001B[38;5;124m\"\u001B[39m\u001B[38;5;124mmonkey\u001B[39m\u001B[38;5;124m\"\u001B[39m\n\u001B[0;32m      3\u001B[0m points[[\u001B[38;5;241m5\u001B[39m, \u001B[38;5;241m0\u001B[39m]] \u001B[38;5;241m=\u001B[39m \u001B[38;5;124m\"\u001B[39m\u001B[38;5;124mbanana\u001B[39m\u001B[38;5;124m\"\u001B[39m\n\u001B[0;32m      4\u001B[0m points[[\u001B[38;5;241m1\u001B[39m, \u001B[38;5;241m2\u001B[39m]] \u001B[38;5;241m=\u001B[39m \u001B[38;5;124m\"\u001B[39m\u001B[38;5;124mharpsichord\u001B[39m\u001B[38;5;124m\"\u001B[39m\n",
      "\u001B[1;31mTypeError\u001B[0m: unhashable type: 'list'"
     ]
    }
   ],
   "source": [
    "points = {}\n",
    "points[[3, 5]] = \"monkey\"\n",
    "points[[5, 0]] = \"banana\"\n",
    "points[[1, 2]] = \"harpsichord\"\n",
    "print(points[[3, 5]])"
   ],
   "metadata": {
    "collapsed": false,
    "pycharm": {
     "name": "#%%\n"
    }
   }
  },
  {
   "cell_type": "code",
   "execution_count": 114,
   "outputs": [
    {
     "name": "stdout",
     "output_type": "stream",
     "text": [
      "key: apina\n",
      "value: monkey\n",
      "key: banaani\n",
      "value: banana\n",
      "key: cembalo\n",
      "value: harpsichord\n"
     ]
    }
   ],
   "source": [
    "my_dictionary = {}\n",
    "\n",
    "my_dictionary[\"apina\"] = \"monkey\"\n",
    "my_dictionary[\"banaani\"] = \"banana\"\n",
    "my_dictionary[\"cembalo\"] = \"harpsichord\"\n",
    "\n",
    "for key, value in my_dictionary.items():\n",
    "    print(\"key:\", key)\n",
    "    print(\"value:\", value)"
   ],
   "metadata": {
    "collapsed": false,
    "pycharm": {
     "name": "#%%\n"
    }
   }
  },
  {
   "cell_type": "code",
   "execution_count": null,
   "outputs": [],
   "source": [],
   "metadata": {
    "collapsed": false,
    "pycharm": {
     "name": "#%%\n"
    }
   }
  }
 ],
 "metadata": {
  "kernelspec": {
   "display_name": "Python 3",
   "language": "python",
   "name": "python3"
  },
  "language_info": {
   "codemirror_mode": {
    "name": "ipython",
    "version": 2
   },
   "file_extension": ".py",
   "mimetype": "text/x-python",
   "name": "python",
   "nbconvert_exporter": "python",
   "pygments_lexer": "ipython2",
   "version": "2.7.6"
  }
 },
 "nbformat": 4,
 "nbformat_minor": 0
}